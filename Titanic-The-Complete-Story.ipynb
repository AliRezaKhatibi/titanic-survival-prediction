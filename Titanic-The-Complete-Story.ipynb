{
 "cells": [
  {
   "cell_type": "markdown",
   "id": "8167fe75-248c-4346-ba1f-987670d06854",
   "metadata": {},
   "source": [
    "# Titanic: The Complete Story\n",
    "\n",
    "## Introduction\n",
    "The RMS Titanic was a British luxury passenger liner operated by the White Star Line, hailed as the largest and most opulent ship afloat at the time. Built by Harland and Wolff in Belfast, Ireland, it measured 882 feet in length, displaced over 46,000 tons, and could carry more than 2,200 passengers and crew. Marketed as \"practically unsinkable\" due to its watertight compartments and double-bottomed hull, the Titanic embarked on its maiden voyage from Southampton, England, to New York City on April 10, 1912. The ship was commanded by Captain Edward J. Smith, a veteran mariner nearing retirement.\n",
    "\n",
    "## The Voyage Begins\n",
    "- **April 10, 1912**: Titanic departed Southampton at noon, with stops planned in Cherbourg, France, and Queenstown (now Cobh), Ireland. Passengers included wealthy industrialists like John Jacob Astor IV and his wife Madeleine, self-made millionaire Margaret \"Molly\" Brown, and thousands of immigrants seeking new lives in America.\n",
    "- **April 11–14**: The ship steamed westward across the Atlantic at about 21–22 knots. Despite receiving multiple iceberg warnings from other vessels (including the SS Amerika and SS Californian), Captain Smith maintained speed to arrive early in New York. The weather was calm, with clear skies and a flat sea.\n",
    "\n",
    "## The Collision\n",
    "- **April 14, 1912, 11:40 PM**: Lookouts Frederick Fleet and Reginald Lee spotted an iceberg dead ahead in the moonless night. First Officer William Murdoch ordered \"hard-a-starboard\" and engines reversed, but the ship struck the iceberg on its starboard side. The impact buckled plates along a 300-foot section, popping rivets and flooding six forward watertight compartments—more than the four the design could handle while remaining afloat.\n",
    "- **Initial Assessment**: Designer Thomas Andrews inspected the damage and informed Captain Smith that the ship would sink in 1–2 hours. The Titanic's radio operators, Jack Phillips and Harold Bride, began sending distress calls (initially \"CQD,\" then the new \"SOS\") to nearby ships.\n",
    "\n",
    "## The Sinking\n",
    "- **Evacuation Begins (12:00 AM, April 15)**: Captain Smith ordered \"women and children first.\" Lifeboats (only 20 for 2,208 people, with capacity for 1,178) were launched half-full initially due to confusion and disbelief. The band, led by Wallace Hartley, played ragtime and hymns to calm passengers.\n",
    "- **Key Events**:\n",
    "  - 12:45 AM: First lifeboat launched (No. 7, ~28 occupants).\n",
    "  - 1:15 AM: Water reached the ship's name on the bow; distress rockets fired.\n",
    "  - 2:00 AM: Last lifeboat (collapsible D) launched; the bow submerged fully.\n",
    "  - 2:05 AM: Final radio message sent.\n",
    "  - 2:18 AM: Lights failed; the ship broke in two (bow section sank first, stern followed vertically).\n",
    "  - **2:20 AM**: Titanic fully submerged, creating a vortex that pulled swimmers under. Over 1,500 people remained in the 28°F (-2°C) water, succumbing to hypothermia within minutes.\n",
    "\n",
    "## Rescue and Aftermath\n",
    "- **RMS Carpathia**: Responded to distress calls, arriving at 4:00 AM to pick up 705 survivors from lifeboats. The SS Californian, closest at ~10 miles, failed to act promptly.\n",
    "- **April 18, 1912**: Carpathia docked in New York with survivors. Bodies recovered by cable ship Mackay-Bennett numbered 328; many were buried at sea.\n",
    "- **Casualties**: 1,496–1,517 dead (exact figure debated); 705–713 survivors. Third-class passengers suffered highest losses (~75% fatality rate) due to gated access and language barriers.\n",
    "\n",
    "## Investigations and Legacy\n",
    "- **U.S. and British Inquiries (1912)**: Revealed design flaws, insufficient lifeboats, ignored warnings, and excessive speed. Led to the International Convention for the Safety of Life at Sea (SOLAS, 1914), mandating enough lifeboats, 24-hour radio watches, and the International Ice Patrol.\n",
    "- **Wreck Discovery**: Robert Ballard located the Titanic on September 1, 1985, at 12,500 feet depth, split in two sections 1,970 feet apart. Artifacts raised debates on preservation vs. salvage.\n",
    "- **Cultural Impact**: Inspired books (e.g., Walter Lord's *A Night to Remember*), films (notably James Cameron's 1997 blockbuster), and memorials. The Titanic symbolizes hubris, class disparity, and maritime tragedy.\n",
    "\n",
    "The story of the Titanic remains a poignant reminder of human ingenuity's limits against nature's indifference."
   ]
  },
  {
   "cell_type": "markdown",
   "id": "9eade742-4304-40c1-9fa1-a33fc6bf0525",
   "metadata": {},
   "source": [
    "# Titanic: The Complete Story & Interactive Visualization\n",
    "\n",
    "## Overview\n",
    "The RMS Titanic sank on its maiden voyage in 1912 after striking an iceberg, becoming one of history's most famous maritime disasters. This notebook tells the full story and includes interactive data visualizations.\n",
    "\n",
    "---\n",
    "\n",
    "## The Full Story\n",
    "\n",
    "### Introduction\n",
    "The RMS Titanic was a British luxury passenger liner operated by the White Star Line, hailed as the largest and most opulent ship afloat at the time. Built by Harland and Wolff in Belfast, Ireland, it measured 882 feet in length, displaced over 46,000 tons, and could carry more than 2,200 passengers and crew. Marketed as \"practically unsinkable\" due to its watertight compartments and double-bottomed hull, the Titanic embarked on its maiden voyage from Southampton, England, to New York City on April 10, 1912. The ship was commanded by Captain Edward J. Smith, a veteran mariner nearing retirement.\n",
    "\n",
    "### The Voyage Begins\n",
    "- **April 10, 1912**: Titanic departed Southampton at noon, with stops planned in Cherbourg, France, and Queenstown (now Cobh), Ireland. Passengers included wealthy industrialists like John Jacob Astor IV and his wife Madeleine, self-made millionaire Margaret \"Molly\" Brown, and thousands of immigrants seeking new lives in America.\n",
    "- **April 11–14**: The ship steamed westward across the Atlantic at about 21–22 knots. Despite receiving multiple iceberg warnings from other vessels (including the SS Amerika and SS Californian), Captain Smith maintained speed to arrive early in New York. The weather was calm, with clear skies and a flat sea.\n",
    "\n",
    "### The Collision\n",
    "- **April 14, 1912, 11:40 PM**: Lookouts Frederick Fleet and Reginald Lee spotted an iceberg dead ahead in the moonless night. First Officer William Murdoch ordered \"hard-a-starboard\" and engines reversed, but the ship struck the iceberg on its starboard side. The impact buckled plates along a 300-foot section, popping rivets and flooding six forward watertight compartments—more than the four the design could handle while remaining afloat.\n",
    "- **Initial Assessment**: Designer Thomas Andrews inspected the damage and informed Captain Smith that the ship would sink in 1–2 hours. The Titanic's radio operators, Jack Phillips and Harold Bride, began sending distress calls (initially \"CQD,\" then the new \"SOS\") to nearby ships.\n",
    "\n",
    "### The Sinking\n",
    "- **Evacuation Begins (12:00 AM, April 15)**: Captain Smith ordered \"women and children first.\" Lifeboats (only 20 for 2,208 people, with capacity for 1,178) were launched half-full initially due to confusion and disbelief. The band, led by Wallace Hartley, played ragtime and hymns to calm passengers.\n",
    "- **Key Events**:\n",
    "  - 12:45 AM: First lifeboat launched (No. 7, ~28 occupants).\n",
    "  - 1:15 AM: Water reached the ship's name on the bow; distress rockets fired.\n",
    "  - 2:00 AM: Last lifeboat (collapsible D) launched; the bow submerged fully.\n",
    "  - 2:05 AM: Final radio message sent.\n",
    "  - 2:18 AM: Lights failed; the ship broke in two (bow section sank first, stern followed vertically).\n",
    "  - **2:20 AM**: Titanic fully submerged, creating a vortex that pulled swimmers under. Over 1,500 people remained in the 28°F (-2°C) water, succumbing to hypothermia within minutes.\n",
    "\n",
    "### Rescue and Aftermath\n",
    "- **RMS Carpathia**: Responded to distress calls, arriving at 4:00 AM to pick up 705 survivors from lifeboats. The SS Californian, closest at ~10 miles, failed to act promptly.\n",
    "- **April 18, 1912**: Carpathia docked in New York with survivors. Bodies recovered by cable ship Mackay-Bennett numbered 328; many were buried at sea.\n",
    "- **Casualties**: 1,496–1,517 dead (exact figure debated); 705–713 survivors. Third-class passengers suffered highest losses (~75% fatality rate) due to gated access and language barriers.\n",
    "\n",
    "### Investigations and Legacy\n",
    "- **U.S. and British Inquiries (1912)**: Revealed design flaws, insufficient lifeboats, ignored warnings, and excessive speed. Led to the International Convention for the Safety of Life at Sea (SOLAS, 1914), mandating enough lifeboats, 24-hour radio watches, and the International Ice Patrol.\n",
    "- **Wreck Discovery**: Robert Ballard located the Titanic on September 1, 1985, at 12,500 feet depth, split in two sections 1,970 feet apart. Artifacts raised debates on preservation vs. salvage.\n",
    "- **Cultural Impact**: Inspired books (e.g., Walter Lord's *A Night to Remember*), films (notably James Cameron's 1997 blockbuster), and memorials. The Titanic symbolizes hubris, class disparity, and maritime tragedy.\n",
    "\n",
    "---\n",
    "\n",
    "## Interactive Visualization (Python Code)"
   ]
  },
  {
   "cell_type": "code",
   "execution_count": 2,
   "id": "0f71b7a1-678b-44b7-99d3-2f2b18003cbe",
   "metadata": {},
   "outputs": [
    {
     "data": {
      "application/vnd.plotly.v1+json": {
       "config": {
        "plotlyServerURL": "https://plot.ly"
       },
       "data": [
        {
         "hoverinfo": "text",
         "hovertext": [
          "Titanic leaves Southampton",
          "Stops in France",
          "Final stop in Ireland",
          "Multiple warnings received",
          "Struck iceberg",
          "SOS sent",
          "Lifeboat #7 launched",
          "Bow fully underwater",
          "Titanic splits in two",
          "Completely submerged",
          "Rescue begins",
          "Survivors reach New York"
         ],
         "marker": {
          "color": "navy",
          "size": 12
         },
         "mode": "markers+text",
         "text": [
          "Departure",
          "Cherbourg",
          "Queenstown",
          "Iceberg Warning",
          "Collision",
          "Distress Call",
          "First Lifeboat",
          "Bow Submerges",
          "Ship Breaks",
          "Sinks",
          "Carpathia Arrives",
          "NYC Arrival"
         ],
         "textposition": "top center",
         "type": "scatter",
         "x": [
          "1912-04-10T12:00:00.000000000",
          "1912-04-10T18:30:00.000000000",
          "1912-04-11T11:30:00.000000000",
          "1912-04-14T09:00:00.000000000",
          "1912-04-14T23:40:00.000000000",
          "1912-04-15T00:00:00.000000000",
          "1912-04-15T00:45:00.000000000",
          "1912-04-15T02:00:00.000000000",
          "1912-04-15T02:18:00.000000000",
          "1912-04-15T02:20:00.000000000",
          "1912-04-15T04:00:00.000000000",
          "1912-04-18T21:00:00.000000000"
         ],
         "y": [
          1,
          1,
          1,
          1,
          1,
          1,
          1,
          1,
          1,
          1,
          1,
          1
         ]
        },
        {
         "hoverinfo": "none",
         "line": {
          "color": "lightblue",
          "width": 4
         },
         "mode": "lines",
         "type": "scatter",
         "x": [
          "1912-04-10T12:00:00.000000000",
          "1912-04-10T18:30:00.000000000",
          "1912-04-11T11:30:00.000000000",
          "1912-04-14T09:00:00.000000000",
          "1912-04-14T23:40:00.000000000",
          "1912-04-15T00:00:00.000000000",
          "1912-04-15T00:45:00.000000000",
          "1912-04-15T02:00:00.000000000",
          "1912-04-15T02:18:00.000000000",
          "1912-04-15T02:20:00.000000000",
          "1912-04-15T04:00:00.000000000",
          "1912-04-18T21:00:00.000000000"
         ],
         "y": [
          0,
          0,
          0,
          0,
          0,
          0,
          0,
          0,
          0,
          0,
          0,
          0
         ]
        }
       ],
       "layout": {
        "height": 400,
        "showlegend": false,
        "template": {
         "data": {
          "bar": [
           {
            "error_x": {
             "color": "#f2f5fa"
            },
            "error_y": {
             "color": "#f2f5fa"
            },
            "marker": {
             "line": {
              "color": "rgb(17,17,17)",
              "width": 0.5
             },
             "pattern": {
              "fillmode": "overlay",
              "size": 10,
              "solidity": 0.2
             }
            },
            "type": "bar"
           }
          ],
          "barpolar": [
           {
            "marker": {
             "line": {
              "color": "rgb(17,17,17)",
              "width": 0.5
             },
             "pattern": {
              "fillmode": "overlay",
              "size": 10,
              "solidity": 0.2
             }
            },
            "type": "barpolar"
           }
          ],
          "carpet": [
           {
            "aaxis": {
             "endlinecolor": "#A2B1C6",
             "gridcolor": "#506784",
             "linecolor": "#506784",
             "minorgridcolor": "#506784",
             "startlinecolor": "#A2B1C6"
            },
            "baxis": {
             "endlinecolor": "#A2B1C6",
             "gridcolor": "#506784",
             "linecolor": "#506784",
             "minorgridcolor": "#506784",
             "startlinecolor": "#A2B1C6"
            },
            "type": "carpet"
           }
          ],
          "choropleth": [
           {
            "colorbar": {
             "outlinewidth": 0,
             "ticks": ""
            },
            "type": "choropleth"
           }
          ],
          "contour": [
           {
            "colorbar": {
             "outlinewidth": 0,
             "ticks": ""
            },
            "colorscale": [
             [
              0,
              "#0d0887"
             ],
             [
              0.1111111111111111,
              "#46039f"
             ],
             [
              0.2222222222222222,
              "#7201a8"
             ],
             [
              0.3333333333333333,
              "#9c179e"
             ],
             [
              0.4444444444444444,
              "#bd3786"
             ],
             [
              0.5555555555555556,
              "#d8576b"
             ],
             [
              0.6666666666666666,
              "#ed7953"
             ],
             [
              0.7777777777777778,
              "#fb9f3a"
             ],
             [
              0.8888888888888888,
              "#fdca26"
             ],
             [
              1,
              "#f0f921"
             ]
            ],
            "type": "contour"
           }
          ],
          "contourcarpet": [
           {
            "colorbar": {
             "outlinewidth": 0,
             "ticks": ""
            },
            "type": "contourcarpet"
           }
          ],
          "heatmap": [
           {
            "colorbar": {
             "outlinewidth": 0,
             "ticks": ""
            },
            "colorscale": [
             [
              0,
              "#0d0887"
             ],
             [
              0.1111111111111111,
              "#46039f"
             ],
             [
              0.2222222222222222,
              "#7201a8"
             ],
             [
              0.3333333333333333,
              "#9c179e"
             ],
             [
              0.4444444444444444,
              "#bd3786"
             ],
             [
              0.5555555555555556,
              "#d8576b"
             ],
             [
              0.6666666666666666,
              "#ed7953"
             ],
             [
              0.7777777777777778,
              "#fb9f3a"
             ],
             [
              0.8888888888888888,
              "#fdca26"
             ],
             [
              1,
              "#f0f921"
             ]
            ],
            "type": "heatmap"
           }
          ],
          "histogram": [
           {
            "marker": {
             "pattern": {
              "fillmode": "overlay",
              "size": 10,
              "solidity": 0.2
             }
            },
            "type": "histogram"
           }
          ],
          "histogram2d": [
           {
            "colorbar": {
             "outlinewidth": 0,
             "ticks": ""
            },
            "colorscale": [
             [
              0,
              "#0d0887"
             ],
             [
              0.1111111111111111,
              "#46039f"
             ],
             [
              0.2222222222222222,
              "#7201a8"
             ],
             [
              0.3333333333333333,
              "#9c179e"
             ],
             [
              0.4444444444444444,
              "#bd3786"
             ],
             [
              0.5555555555555556,
              "#d8576b"
             ],
             [
              0.6666666666666666,
              "#ed7953"
             ],
             [
              0.7777777777777778,
              "#fb9f3a"
             ],
             [
              0.8888888888888888,
              "#fdca26"
             ],
             [
              1,
              "#f0f921"
             ]
            ],
            "type": "histogram2d"
           }
          ],
          "histogram2dcontour": [
           {
            "colorbar": {
             "outlinewidth": 0,
             "ticks": ""
            },
            "colorscale": [
             [
              0,
              "#0d0887"
             ],
             [
              0.1111111111111111,
              "#46039f"
             ],
             [
              0.2222222222222222,
              "#7201a8"
             ],
             [
              0.3333333333333333,
              "#9c179e"
             ],
             [
              0.4444444444444444,
              "#bd3786"
             ],
             [
              0.5555555555555556,
              "#d8576b"
             ],
             [
              0.6666666666666666,
              "#ed7953"
             ],
             [
              0.7777777777777778,
              "#fb9f3a"
             ],
             [
              0.8888888888888888,
              "#fdca26"
             ],
             [
              1,
              "#f0f921"
             ]
            ],
            "type": "histogram2dcontour"
           }
          ],
          "mesh3d": [
           {
            "colorbar": {
             "outlinewidth": 0,
             "ticks": ""
            },
            "type": "mesh3d"
           }
          ],
          "parcoords": [
           {
            "line": {
             "colorbar": {
              "outlinewidth": 0,
              "ticks": ""
             }
            },
            "type": "parcoords"
           }
          ],
          "pie": [
           {
            "automargin": true,
            "type": "pie"
           }
          ],
          "scatter": [
           {
            "marker": {
             "line": {
              "color": "#283442"
             }
            },
            "type": "scatter"
           }
          ],
          "scatter3d": [
           {
            "line": {
             "colorbar": {
              "outlinewidth": 0,
              "ticks": ""
             }
            },
            "marker": {
             "colorbar": {
              "outlinewidth": 0,
              "ticks": ""
             }
            },
            "type": "scatter3d"
           }
          ],
          "scattercarpet": [
           {
            "marker": {
             "colorbar": {
              "outlinewidth": 0,
              "ticks": ""
             }
            },
            "type": "scattercarpet"
           }
          ],
          "scattergeo": [
           {
            "marker": {
             "colorbar": {
              "outlinewidth": 0,
              "ticks": ""
             }
            },
            "type": "scattergeo"
           }
          ],
          "scattergl": [
           {
            "marker": {
             "line": {
              "color": "#283442"
             }
            },
            "type": "scattergl"
           }
          ],
          "scattermap": [
           {
            "marker": {
             "colorbar": {
              "outlinewidth": 0,
              "ticks": ""
             }
            },
            "type": "scattermap"
           }
          ],
          "scattermapbox": [
           {
            "marker": {
             "colorbar": {
              "outlinewidth": 0,
              "ticks": ""
             }
            },
            "type": "scattermapbox"
           }
          ],
          "scatterpolar": [
           {
            "marker": {
             "colorbar": {
              "outlinewidth": 0,
              "ticks": ""
             }
            },
            "type": "scatterpolar"
           }
          ],
          "scatterpolargl": [
           {
            "marker": {
             "colorbar": {
              "outlinewidth": 0,
              "ticks": ""
             }
            },
            "type": "scatterpolargl"
           }
          ],
          "scatterternary": [
           {
            "marker": {
             "colorbar": {
              "outlinewidth": 0,
              "ticks": ""
             }
            },
            "type": "scatterternary"
           }
          ],
          "surface": [
           {
            "colorbar": {
             "outlinewidth": 0,
             "ticks": ""
            },
            "colorscale": [
             [
              0,
              "#0d0887"
             ],
             [
              0.1111111111111111,
              "#46039f"
             ],
             [
              0.2222222222222222,
              "#7201a8"
             ],
             [
              0.3333333333333333,
              "#9c179e"
             ],
             [
              0.4444444444444444,
              "#bd3786"
             ],
             [
              0.5555555555555556,
              "#d8576b"
             ],
             [
              0.6666666666666666,
              "#ed7953"
             ],
             [
              0.7777777777777778,
              "#fb9f3a"
             ],
             [
              0.8888888888888888,
              "#fdca26"
             ],
             [
              1,
              "#f0f921"
             ]
            ],
            "type": "surface"
           }
          ],
          "table": [
           {
            "cells": {
             "fill": {
              "color": "#506784"
             },
             "line": {
              "color": "rgb(17,17,17)"
             }
            },
            "header": {
             "fill": {
              "color": "#2a3f5f"
             },
             "line": {
              "color": "rgb(17,17,17)"
             }
            },
            "type": "table"
           }
          ]
         },
         "layout": {
          "annotationdefaults": {
           "arrowcolor": "#f2f5fa",
           "arrowhead": 0,
           "arrowwidth": 1
          },
          "autotypenumbers": "strict",
          "coloraxis": {
           "colorbar": {
            "outlinewidth": 0,
            "ticks": ""
           }
          },
          "colorscale": {
           "diverging": [
            [
             0,
             "#8e0152"
            ],
            [
             0.1,
             "#c51b7d"
            ],
            [
             0.2,
             "#de77ae"
            ],
            [
             0.3,
             "#f1b6da"
            ],
            [
             0.4,
             "#fde0ef"
            ],
            [
             0.5,
             "#f7f7f7"
            ],
            [
             0.6,
             "#e6f5d0"
            ],
            [
             0.7,
             "#b8e186"
            ],
            [
             0.8,
             "#7fbc41"
            ],
            [
             0.9,
             "#4d9221"
            ],
            [
             1,
             "#276419"
            ]
           ],
           "sequential": [
            [
             0,
             "#0d0887"
            ],
            [
             0.1111111111111111,
             "#46039f"
            ],
            [
             0.2222222222222222,
             "#7201a8"
            ],
            [
             0.3333333333333333,
             "#9c179e"
            ],
            [
             0.4444444444444444,
             "#bd3786"
            ],
            [
             0.5555555555555556,
             "#d8576b"
            ],
            [
             0.6666666666666666,
             "#ed7953"
            ],
            [
             0.7777777777777778,
             "#fb9f3a"
            ],
            [
             0.8888888888888888,
             "#fdca26"
            ],
            [
             1,
             "#f0f921"
            ]
           ],
           "sequentialminus": [
            [
             0,
             "#0d0887"
            ],
            [
             0.1111111111111111,
             "#46039f"
            ],
            [
             0.2222222222222222,
             "#7201a8"
            ],
            [
             0.3333333333333333,
             "#9c179e"
            ],
            [
             0.4444444444444444,
             "#bd3786"
            ],
            [
             0.5555555555555556,
             "#d8576b"
            ],
            [
             0.6666666666666666,
             "#ed7953"
            ],
            [
             0.7777777777777778,
             "#fb9f3a"
            ],
            [
             0.8888888888888888,
             "#fdca26"
            ],
            [
             1,
             "#f0f921"
            ]
           ]
          },
          "colorway": [
           "#636efa",
           "#EF553B",
           "#00cc96",
           "#ab63fa",
           "#FFA15A",
           "#19d3f3",
           "#FF6692",
           "#B6E880",
           "#FF97FF",
           "#FECB52"
          ],
          "font": {
           "color": "#f2f5fa"
          },
          "geo": {
           "bgcolor": "rgb(17,17,17)",
           "lakecolor": "rgb(17,17,17)",
           "landcolor": "rgb(17,17,17)",
           "showlakes": true,
           "showland": true,
           "subunitcolor": "#506784"
          },
          "hoverlabel": {
           "align": "left"
          },
          "hovermode": "closest",
          "mapbox": {
           "style": "dark"
          },
          "paper_bgcolor": "rgb(17,17,17)",
          "plot_bgcolor": "rgb(17,17,17)",
          "polar": {
           "angularaxis": {
            "gridcolor": "#506784",
            "linecolor": "#506784",
            "ticks": ""
           },
           "bgcolor": "rgb(17,17,17)",
           "radialaxis": {
            "gridcolor": "#506784",
            "linecolor": "#506784",
            "ticks": ""
           }
          },
          "scene": {
           "xaxis": {
            "backgroundcolor": "rgb(17,17,17)",
            "gridcolor": "#506784",
            "gridwidth": 2,
            "linecolor": "#506784",
            "showbackground": true,
            "ticks": "",
            "zerolinecolor": "#C8D4E3"
           },
           "yaxis": {
            "backgroundcolor": "rgb(17,17,17)",
            "gridcolor": "#506784",
            "gridwidth": 2,
            "linecolor": "#506784",
            "showbackground": true,
            "ticks": "",
            "zerolinecolor": "#C8D4E3"
           },
           "zaxis": {
            "backgroundcolor": "rgb(17,17,17)",
            "gridcolor": "#506784",
            "gridwidth": 2,
            "linecolor": "#506784",
            "showbackground": true,
            "ticks": "",
            "zerolinecolor": "#C8D4E3"
           }
          },
          "shapedefaults": {
           "line": {
            "color": "#f2f5fa"
           }
          },
          "sliderdefaults": {
           "bgcolor": "#C8D4E3",
           "bordercolor": "rgb(17,17,17)",
           "borderwidth": 1,
           "tickwidth": 0
          },
          "ternary": {
           "aaxis": {
            "gridcolor": "#506784",
            "linecolor": "#506784",
            "ticks": ""
           },
           "baxis": {
            "gridcolor": "#506784",
            "linecolor": "#506784",
            "ticks": ""
           },
           "bgcolor": "rgb(17,17,17)",
           "caxis": {
            "gridcolor": "#506784",
            "linecolor": "#506784",
            "ticks": ""
           }
          },
          "title": {
           "x": 0.05
          },
          "updatemenudefaults": {
           "bgcolor": "#506784",
           "borderwidth": 0
          },
          "xaxis": {
           "automargin": true,
           "gridcolor": "#283442",
           "linecolor": "#506784",
           "ticks": "",
           "title": {
            "standoff": 15
           },
           "zerolinecolor": "#283442",
           "zerolinewidth": 2
          },
          "yaxis": {
           "automargin": true,
           "gridcolor": "#283442",
           "linecolor": "#506784",
           "ticks": "",
           "title": {
            "standoff": 15
           },
           "zerolinecolor": "#283442",
           "zerolinewidth": 2
          }
         }
        },
        "title": {
         "text": "Titanic Disaster Timeline (April 10–18, 1912)"
        },
        "xaxis": {
         "title": {
          "text": "Date & Time"
         }
        },
        "yaxis": {
         "range": [
          -0.5,
          1.5
         ],
         "showticklabels": false
        }
       }
      },
      "image/png": "[encoded data removed]"
     },
     "metadata": {},
     "output_type": "display_data"
    },
    {
     "data": {
      "application/vnd.plotly.v1+json": {
       "config": {
        "plotlyServerURL": "https://plot.ly"
       },
       "data": [
        {
         "link": {
          "color": [
           "rgba(255,215,0,0.4)",
           "rgba(192,192,192,0.4)",
           "rgba(139,69,19,0.4)",
           "rgba(135,206,235,0.4)",
           "rgba(255,182,193,0.4)",
           "rgba(144,238,144,0.4)"
          ],
          "source": [
           0,
           0,
           1,
           1,
           2,
           2,
           3,
           3,
           4,
           4
          ],
          "target": [
           3,
           4,
           3,
           4,
           3,
           4,
           5,
           6,
           5,
           6
          ],
          "value": [
           130,
           195,
           120,
           165,
           510,
           670,
           340,
           785,
           150,
           460
          ]
         },
         "node": {
          "color": [
           "gold",
           "silver",
           "brown",
           "blue",
           "pink",
           "green",
           "red"
          ],
          "label": [
           "1st Class",
           "2nd Class",
           "3rd Class",
           "Male",
           "Female",
           "Survived",
           "Perished"
          ],
          "line": {
           "color": "black",
           "width": 0.5
          },
          "pad": 15,
          "thickness": 20
         },
         "type": "sankey"
        }
       ],
       "layout": {
        "font": {
         "size": 12
        },
        "template": {
         "data": {
          "bar": [
           {
            "error_x": {
             "color": "#2a3f5f"
            },
            "error_y": {
             "color": "#2a3f5f"
            },
            "marker": {
             "line": {
              "color": "#E5ECF6",
              "width": 0.5
             },
             "pattern": {
              "fillmode": "overlay",
              "size": 10,
              "solidity": 0.2
             }
            },
            "type": "bar"
           }
          ],
          "barpolar": [
           {
            "marker": {
             "line": {
              "color": "#E5ECF6",
              "width": 0.5
             },
             "pattern": {
              "fillmode": "overlay",
              "size": 10,
              "solidity": 0.2
             }
            },
            "type": "barpolar"
           }
          ],
          "carpet": [
           {
            "aaxis": {
             "endlinecolor": "#2a3f5f",
             "gridcolor": "white",
             "linecolor": "white",
             "minorgridcolor": "white",
             "startlinecolor": "#2a3f5f"
            },
            "baxis": {
             "endlinecolor": "#2a3f5f",
             "gridcolor": "white",
             "linecolor": "white",
             "minorgridcolor": "white",
             "startlinecolor": "#2a3f5f"
            },
            "type": "carpet"
           }
          ],
          "choropleth": [
           {
            "colorbar": {
             "outlinewidth": 0,
             "ticks": ""
            },
            "type": "choropleth"
           }
          ],
          "contour": [
           {
            "colorbar": {
             "outlinewidth": 0,
             "ticks": ""
            },
            "colorscale": [
             [
              0,
              "#0d0887"
             ],
             [
              0.1111111111111111,
              "#46039f"
             ],
             [
              0.2222222222222222,
              "#7201a8"
             ],
             [
              0.3333333333333333,
              "#9c179e"
             ],
             [
              0.4444444444444444,
              "#bd3786"
             ],
             [
              0.5555555555555556,
              "#d8576b"
             ],
             [
              0.6666666666666666,
              "#ed7953"
             ],
             [
              0.7777777777777778,
              "#fb9f3a"
             ],
             [
              0.8888888888888888,
              "#fdca26"
             ],
             [
              1,
              "#f0f921"
             ]
            ],
            "type": "contour"
           }
          ],
          "contourcarpet": [
           {
            "colorbar": {
             "outlinewidth": 0,
             "ticks": ""
            },
            "type": "contourcarpet"
           }
          ],
          "heatmap": [
           {
            "colorbar": {
             "outlinewidth": 0,
             "ticks": ""
            },
            "colorscale": [
             [
              0,
              "#0d0887"
             ],
             [
              0.1111111111111111,
              "#46039f"
             ],
             [
              0.2222222222222222,
              "#7201a8"
             ],
             [
              0.3333333333333333,
              "#9c179e"
             ],
             [
              0.4444444444444444,
              "#bd3786"
             ],
             [
              0.5555555555555556,
              "#d8576b"
             ],
             [
              0.6666666666666666,
              "#ed7953"
             ],
             [
              0.7777777777777778,
              "#fb9f3a"
             ],
             [
              0.8888888888888888,
              "#fdca26"
             ],
             [
              1,
              "#f0f921"
             ]
            ],
            "type": "heatmap"
           }
          ],
          "histogram": [
           {
            "marker": {
             "pattern": {
              "fillmode": "overlay",
              "size": 10,
              "solidity": 0.2
             }
            },
            "type": "histogram"
           }
          ],
          "histogram2d": [
           {
            "colorbar": {
             "outlinewidth": 0,
             "ticks": ""
            },
            "colorscale": [
             [
              0,
              "#0d0887"
             ],
             [
              0.1111111111111111,
              "#46039f"
             ],
             [
              0.2222222222222222,
              "#7201a8"
             ],
             [
              0.3333333333333333,
              "#9c179e"
             ],
             [
              0.4444444444444444,
              "#bd3786"
             ],
             [
              0.5555555555555556,
              "#d8576b"
             ],
             [
              0.6666666666666666,
              "#ed7953"
             ],
             [
              0.7777777777777778,
              "#fb9f3a"
             ],
             [
              0.8888888888888888,
              "#fdca26"
             ],
             [
              1,
              "#f0f921"
             ]
            ],
            "type": "histogram2d"
           }
          ],
          "histogram2dcontour": [
           {
            "colorbar": {
             "outlinewidth": 0,
             "ticks": ""
            },
            "colorscale": [
             [
              0,
              "#0d0887"
             ],
             [
              0.1111111111111111,
              "#46039f"
             ],
             [
              0.2222222222222222,
              "#7201a8"
             ],
             [
              0.3333333333333333,
              "#9c179e"
             ],
             [
              0.4444444444444444,
              "#bd3786"
             ],
             [
              0.5555555555555556,
              "#d8576b"
             ],
             [
              0.6666666666666666,
              "#ed7953"
             ],
             [
              0.7777777777777778,
              "#fb9f3a"
             ],
             [
              0.8888888888888888,
              "#fdca26"
             ],
             [
              1,
              "#f0f921"
             ]
            ],
            "type": "histogram2dcontour"
           }
          ],
          "mesh3d": [
           {
            "colorbar": {
             "outlinewidth": 0,
             "ticks": ""
            },
            "type": "mesh3d"
           }
          ],
          "parcoords": [
           {
            "line": {
             "colorbar": {
              "outlinewidth": 0,
              "ticks": ""
             }
            },
            "type": "parcoords"
           }
          ],
          "pie": [
           {
            "automargin": true,
            "type": "pie"
           }
          ],
          "scatter": [
           {
            "fillpattern": {
             "fillmode": "overlay",
             "size": 10,
             "solidity": 0.2
            },
            "type": "scatter"
           }
          ],
          "scatter3d": [
           {
            "line": {
             "colorbar": {
              "outlinewidth": 0,
              "ticks": ""
             }
            },
            "marker": {
             "colorbar": {
              "outlinewidth": 0,
              "ticks": ""
             }
            },
            "type": "scatter3d"
           }
          ],
          "scattercarpet": [
           {
            "marker": {
             "colorbar": {
              "outlinewidth": 0,
              "ticks": ""
             }
            },
            "type": "scattercarpet"
           }
          ],
          "scattergeo": [
           {
            "marker": {
             "colorbar": {
              "outlinewidth": 0,
              "ticks": ""
             }
            },
            "type": "scattergeo"
           }
          ],
          "scattergl": [
           {
            "marker": {
             "colorbar": {
              "outlinewidth": 0,
              "ticks": ""
             }
            },
            "type": "scattergl"
           }
          ],
          "scattermap": [
           {
            "marker": {
             "colorbar": {
              "outlinewidth": 0,
              "ticks": ""
             }
            },
            "type": "scattermap"
           }
          ],
          "scattermapbox": [
           {
            "marker": {
             "colorbar": {
              "outlinewidth": 0,
              "ticks": ""
             }
            },
            "type": "scattermapbox"
           }
          ],
          "scatterpolar": [
           {
            "marker": {
             "colorbar": {
              "outlinewidth": 0,
              "ticks": ""
             }
            },
            "type": "scatterpolar"
           }
          ],
          "scatterpolargl": [
           {
            "marker": {
             "colorbar": {
              "outlinewidth": 0,
              "ticks": ""
             }
            },
            "type": "scatterpolargl"
           }
          ],
          "scatterternary": [
           {
            "marker": {
             "colorbar": {
              "outlinewidth": 0,
              "ticks": ""
             }
            },
            "type": "scatterternary"
           }
          ],
          "surface": [
           {
            "colorbar": {
             "outlinewidth": 0,
             "ticks": ""
            },
            "colorscale": [
             [
              0,
              "#0d0887"
             ],
             [
              0.1111111111111111,
              "#46039f"
             ],
             [
              0.2222222222222222,
              "#7201a8"
             ],
             [
              0.3333333333333333,
              "#9c179e"
             ],
             [
              0.4444444444444444,
              "#bd3786"
             ],
             [
              0.5555555555555556,
              "#d8576b"
             ],
             [
              0.6666666666666666,
              "#ed7953"
             ],
             [
              0.7777777777777778,
              "#fb9f3a"
             ],
             [
              0.8888888888888888,
              "#fdca26"
             ],
             [
              1,
              "#f0f921"
             ]
            ],
            "type": "surface"
           }
          ],
          "table": [
           {
            "cells": {
             "fill": {
              "color": "#EBF0F8"
             },
             "line": {
              "color": "white"
             }
            },
            "header": {
             "fill": {
              "color": "#C8D4E3"
             },
             "line": {
              "color": "white"
             }
            },
            "type": "table"
           }
          ]
         },
         "layout": {
          "annotationdefaults": {
           "arrowcolor": "#2a3f5f",
           "arrowhead": 0,
           "arrowwidth": 1
          },
          "autotypenumbers": "strict",
          "coloraxis": {
           "colorbar": {
            "outlinewidth": 0,
            "ticks": ""
           }
          },
          "colorscale": {
           "diverging": [
            [
             0,
             "#8e0152"
            ],
            [
             0.1,
             "#c51b7d"
            ],
            [
             0.2,
             "#de77ae"
            ],
            [
             0.3,
             "#f1b6da"
            ],
            [
             0.4,
             "#fde0ef"
            ],
            [
             0.5,
             "#f7f7f7"
            ],
            [
             0.6,
             "#e6f5d0"
            ],
            [
             0.7,
             "#b8e186"
            ],
            [
             0.8,
             "#7fbc41"
            ],
            [
             0.9,
             "#4d9221"
            ],
            [
             1,
             "#276419"
            ]
           ],
           "sequential": [
            [
             0,
             "#0d0887"
            ],
            [
             0.1111111111111111,
             "#46039f"
            ],
            [
             0.2222222222222222,
             "#7201a8"
            ],
            [
             0.3333333333333333,
             "#9c179e"
            ],
            [
             0.4444444444444444,
             "#bd3786"
            ],
            [
             0.5555555555555556,
             "#d8576b"
            ],
            [
             0.6666666666666666,
             "#ed7953"
            ],
            [
             0.7777777777777778,
             "#fb9f3a"
            ],
            [
             0.8888888888888888,
             "#fdca26"
            ],
            [
             1,
             "#f0f921"
            ]
           ],
           "sequentialminus": [
            [
             0,
             "#0d0887"
            ],
            [
             0.1111111111111111,
             "#46039f"
            ],
            [
             0.2222222222222222,
             "#7201a8"
            ],
            [
             0.3333333333333333,
             "#9c179e"
            ],
            [
             0.4444444444444444,
             "#bd3786"
            ],
            [
             0.5555555555555556,
             "#d8576b"
            ],
            [
             0.6666666666666666,
             "#ed7953"
            ],
            [
             0.7777777777777778,
             "#fb9f3a"
            ],
            [
             0.8888888888888888,
             "#fdca26"
            ],
            [
             1,
             "#f0f921"
            ]
           ]
          },
          "colorway": [
           "#636efa",
           "#EF553B",
           "#00cc96",
           "#ab63fa",
           "#FFA15A",
           "#19d3f3",
           "#FF6692",
           "#B6E880",
           "#FF97FF",
           "#FECB52"
          ],
          "font": {
           "color": "#2a3f5f"
          },
          "geo": {
           "bgcolor": "white",
           "lakecolor": "white",
           "landcolor": "#E5ECF6",
           "showlakes": true,
           "showland": true,
           "subunitcolor": "white"
          },
          "hoverlabel": {
           "align": "left"
          },
          "hovermode": "closest",
          "mapbox": {
           "style": "light"
          },
          "paper_bgcolor": "white",
          "plot_bgcolor": "#E5ECF6",
          "polar": {
           "angularaxis": {
            "gridcolor": "white",
            "linecolor": "white",
            "ticks": ""
           },
           "bgcolor": "#E5ECF6",
           "radialaxis": {
            "gridcolor": "white",
            "linecolor": "white",
            "ticks": ""
           }
          },
          "scene": {
           "xaxis": {
            "backgroundcolor": "#E5ECF6",
            "gridcolor": "white",
            "gridwidth": 2,
            "linecolor": "white",
            "showbackground": true,
            "ticks": "",
            "zerolinecolor": "white"
           },
           "yaxis": {
            "backgroundcolor": "#E5ECF6",
            "gridcolor": "white",
            "gridwidth": 2,
            "linecolor": "white",
            "showbackground": true,
            "ticks": "",
            "zerolinecolor": "white"
           },
           "zaxis": {
            "backgroundcolor": "#E5ECF6",
            "gridcolor": "white",
            "gridwidth": 2,
            "linecolor": "white",
            "showbackground": true,
            "ticks": "",
            "zerolinecolor": "white"
           }
          },
          "shapedefaults": {
           "line": {
            "color": "#2a3f5f"
           }
          },
          "ternary": {
           "aaxis": {
            "gridcolor": "white",
            "linecolor": "white",
            "ticks": ""
           },
           "baxis": {
            "gridcolor": "white",
            "linecolor": "white",
            "ticks": ""
           },
           "bgcolor": "#E5ECF6",
           "caxis": {
            "gridcolor": "white",
            "linecolor": "white",
            "ticks": ""
           }
          },
          "title": {
           "x": 0.05
          },
          "xaxis": {
           "automargin": true,
           "gridcolor": "white",
           "linecolor": "white",
           "ticks": "",
           "title": {
            "standoff": 15
           },
           "zerolinecolor": "white",
           "zerolinewidth": 2
          },
          "yaxis": {
           "automargin": true,
           "gridcolor": "white",
           "linecolor": "white",
           "ticks": "",
           "title": {
            "standoff": 15
           },
           "zerolinecolor": "white",
           "zerolinewidth": 2
          }
         }
        },
        "title": {
         "text": "Titanic: Flow from Class → Gender → Survival"
        }
       }
      },
      "image/png": "[encoded data removed]"
     },
     "metadata": {},
     "output_type": "display_data"
    },
    {
     "data": {
      "application/vnd.plotly.v1+json": {
       "config": {
        "plotlyServerURL": "https://plot.ly"
       },
       "data": [
        {
         "branchvalues": "total",
         "customdata": {
          "bdata": "AAAAAACAXkAAAAAAAGBpQAAAAAAAgF1AAAAAAADgZEAAAAAAAMBSQAAAAAAAAFNA/TOmyQCTZUBt8+UAy1ZiQNmAbEA24FJA",
          "dtype": "f8",
          "shape": "9, 1"
         },
         "domain": {
          "x": [
           0,
           1
          ],
          "y": [
           0,
           1
          ]
         },
         "hovertemplate": "labels=%{label}<br>Survived_sum=%{value}<br>parent=%{parent}<br>id=%{id}<br>Survived=%{color}<extra></extra>",
         "ids": [
          "1st/Male",
          "1st/Female",
          "2nd/Male",
          "2nd/Female",
          "3rd/Male",
          "3rd/Female",
          "1st",
          "2nd",
          "3rd"
         ],
         "labels": [
          "Male",
          "Female",
          "Male",
          "Female",
          "Male",
          "Female",
          "1st",
          "2nd",
          "3rd"
         ],
         "marker": {
          "coloraxis": "coloraxis",
          "colors": {
           "bdata": "AAAAAACAXkAAAAAAAGBpQAAAAAAAgF1AAAAAAADgZEAAAAAAAMBSQAAAAAAAAFNA/TOmyQCTZUBt8+UAy1ZiQNmAbEA24FJA",
           "dtype": "f8"
          }
         },
         "name": "",
         "parents": [
          "1st",
          "1st",
          "2nd",
          "2nd",
          "3rd",
          "3rd",
          "",
          "",
          ""
         ],
         "type": "sunburst",
         "values": {
          "bdata": "AAAAAACAXkAAAAAAAGBpQAAAAAAAgF1AAAAAAADgZEAAAAAAAMBSQAAAAAAAAFNAAAAAAABQdEAAAAAAANBxQAAAAAAA4GJA",
          "dtype": "f8"
         }
        }
       ],
       "layout": {
        "coloraxis": {
         "colorbar": {
          "title": {
           "text": "Survived"
          }
         },
         "colorscale": [
          [
           0,
           "rgb(247,251,255)"
          ],
          [
           0.125,
           "rgb(222,235,247)"
          ],
          [
           0.25,
           "rgb(198,219,239)"
          ],
          [
           0.375,
           "rgb(158,202,225)"
          ],
          [
           0.5,
           "rgb(107,174,214)"
          ],
          [
           0.625,
           "rgb(66,146,198)"
          ],
          [
           0.75,
           "rgb(33,113,181)"
          ],
          [
           0.875,
           "rgb(8,81,156)"
          ],
          [
           1,
           "rgb(8,48,107)"
          ]
         ]
        },
        "legend": {
         "tracegroupgap": 0
        },
        "template": {
         "data": {
          "bar": [
           {
            "error_x": {
             "color": "#2a3f5f"
            },
            "error_y": {
             "color": "#2a3f5f"
            },
            "marker": {
             "line": {
              "color": "#E5ECF6",
              "width": 0.5
             },
             "pattern": {
              "fillmode": "overlay",
              "size": 10,
              "solidity": 0.2
             }
            },
            "type": "bar"
           }
          ],
          "barpolar": [
           {
            "marker": {
             "line": {
              "color": "#E5ECF6",
              "width": 0.5
             },
             "pattern": {
              "fillmode": "overlay",
              "size": 10,
              "solidity": 0.2
             }
            },
            "type": "barpolar"
           }
          ],
          "carpet": [
           {
            "aaxis": {
             "endlinecolor": "#2a3f5f",
             "gridcolor": "white",
             "linecolor": "white",
             "minorgridcolor": "white",
             "startlinecolor": "#2a3f5f"
            },
            "baxis": {
             "endlinecolor": "#2a3f5f",
             "gridcolor": "white",
             "linecolor": "white",
             "minorgridcolor": "white",
             "startlinecolor": "#2a3f5f"
            },
            "type": "carpet"
           }
          ],
          "choropleth": [
           {
            "colorbar": {
             "outlinewidth": 0,
             "ticks": ""
            },
            "type": "choropleth"
           }
          ],
          "contour": [
           {
            "colorbar": {
             "outlinewidth": 0,
             "ticks": ""
            },
            "colorscale": [
             [
              0,
              "#0d0887"
             ],
             [
              0.1111111111111111,
              "#46039f"
             ],
             [
              0.2222222222222222,
              "#7201a8"
             ],
             [
              0.3333333333333333,
              "#9c179e"
             ],
             [
              0.4444444444444444,
              "#bd3786"
             ],
             [
              0.5555555555555556,
              "#d8576b"
             ],
             [
              0.6666666666666666,
              "#ed7953"
             ],
             [
              0.7777777777777778,
              "#fb9f3a"
             ],
             [
              0.8888888888888888,
              "#fdca26"
             ],
             [
              1,
              "#f0f921"
             ]
            ],
            "type": "contour"
           }
          ],
          "contourcarpet": [
           {
            "colorbar": {
             "outlinewidth": 0,
             "ticks": ""
            },
            "type": "contourcarpet"
           }
          ],
          "heatmap": [
           {
            "colorbar": {
             "outlinewidth": 0,
             "ticks": ""
            },
            "colorscale": [
             [
              0,
              "#0d0887"
             ],
             [
              0.1111111111111111,
              "#46039f"
             ],
             [
              0.2222222222222222,
              "#7201a8"
             ],
             [
              0.3333333333333333,
              "#9c179e"
             ],
             [
              0.4444444444444444,
              "#bd3786"
             ],
             [
              0.5555555555555556,
              "#d8576b"
             ],
             [
              0.6666666666666666,
              "#ed7953"
             ],
             [
              0.7777777777777778,
              "#fb9f3a"
             ],
             [
              0.8888888888888888,
              "#fdca26"
             ],
             [
              1,
              "#f0f921"
             ]
            ],
            "type": "heatmap"
           }
          ],
          "histogram": [
           {
            "marker": {
             "pattern": {
              "fillmode": "overlay",
              "size": 10,
              "solidity": 0.2
             }
            },
            "type": "histogram"
           }
          ],
          "histogram2d": [
           {
            "colorbar": {
             "outlinewidth": 0,
             "ticks": ""
            },
            "colorscale": [
             [
              0,
              "#0d0887"
             ],
             [
              0.1111111111111111,
              "#46039f"
             ],
             [
              0.2222222222222222,
              "#7201a8"
             ],
             [
              0.3333333333333333,
              "#9c179e"
             ],
             [
              0.4444444444444444,
              "#bd3786"
             ],
             [
              0.5555555555555556,
              "#d8576b"
             ],
             [
              0.6666666666666666,
              "#ed7953"
             ],
             [
              0.7777777777777778,
              "#fb9f3a"
             ],
             [
              0.8888888888888888,
              "#fdca26"
             ],
             [
              1,
              "#f0f921"
             ]
            ],
            "type": "histogram2d"
           }
          ],
          "histogram2dcontour": [
           {
            "colorbar": {
             "outlinewidth": 0,
             "ticks": ""
            },
            "colorscale": [
             [
              0,
              "#0d0887"
             ],
             [
              0.1111111111111111,
              "#46039f"
             ],
             [
              0.2222222222222222,
              "#7201a8"
             ],
             [
              0.3333333333333333,
              "#9c179e"
             ],
             [
              0.4444444444444444,
              "#bd3786"
             ],
             [
              0.5555555555555556,
              "#d8576b"
             ],
             [
              0.6666666666666666,
              "#ed7953"
             ],
             [
              0.7777777777777778,
              "#fb9f3a"
             ],
             [
              0.8888888888888888,
              "#fdca26"
             ],
             [
              1,
              "#f0f921"
             ]
            ],
            "type": "histogram2dcontour"
           }
          ],
          "mesh3d": [
           {
            "colorbar": {
             "outlinewidth": 0,
             "ticks": ""
            },
            "type": "mesh3d"
           }
          ],
          "parcoords": [
           {
            "line": {
             "colorbar": {
              "outlinewidth": 0,
              "ticks": ""
             }
            },
            "type": "parcoords"
           }
          ],
          "pie": [
           {
            "automargin": true,
            "type": "pie"
           }
          ],
          "scatter": [
           {
            "fillpattern": {
             "fillmode": "overlay",
             "size": 10,
             "solidity": 0.2
            },
            "type": "scatter"
           }
          ],
          "scatter3d": [
           {
            "line": {
             "colorbar": {
              "outlinewidth": 0,
              "ticks": ""
             }
            },
            "marker": {
             "colorbar": {
              "outlinewidth": 0,
              "ticks": ""
             }
            },
            "type": "scatter3d"
           }
          ],
          "scattercarpet": [
           {
            "marker": {
             "colorbar": {
              "outlinewidth": 0,
              "ticks": ""
             }
            },
            "type": "scattercarpet"
           }
          ],
          "scattergeo": [
           {
            "marker": {
             "colorbar": {
              "outlinewidth": 0,
              "ticks": ""
             }
            },
            "type": "scattergeo"
           }
          ],
          "scattergl": [
           {
            "marker": {
             "colorbar": {
              "outlinewidth": 0,
              "ticks": ""
             }
            },
            "type": "scattergl"
           }
          ],
          "scattermap": [
           {
            "marker": {
             "colorbar": {
              "outlinewidth": 0,
              "ticks": ""
             }
            },
            "type": "scattermap"
           }
          ],
          "scattermapbox": [
           {
            "marker": {
             "colorbar": {
              "outlinewidth": 0,
              "ticks": ""
             }
            },
            "type": "scattermapbox"
           }
          ],
          "scatterpolar": [
           {
            "marker": {
             "colorbar": {
              "outlinewidth": 0,
              "ticks": ""
             }
            },
            "type": "scatterpolar"
           }
          ],
          "scatterpolargl": [
           {
            "marker": {
             "colorbar": {
              "outlinewidth": 0,
              "ticks": ""
             }
            },
            "type": "scatterpolargl"
           }
          ],
          "scatterternary": [
           {
            "marker": {
             "colorbar": {
              "outlinewidth": 0,
              "ticks": ""
             }
            },
            "type": "scatterternary"
           }
          ],
          "surface": [
           {
            "colorbar": {
             "outlinewidth": 0,
             "ticks": ""
            },
            "colorscale": [
             [
              0,
              "#0d0887"
             ],
             [
              0.1111111111111111,
              "#46039f"
             ],
             [
              0.2222222222222222,
              "#7201a8"
             ],
             [
              0.3333333333333333,
              "#9c179e"
             ],
             [
              0.4444444444444444,
              "#bd3786"
             ],
             [
              0.5555555555555556,
              "#d8576b"
             ],
             [
              0.6666666666666666,
              "#ed7953"
             ],
             [
              0.7777777777777778,
              "#fb9f3a"
             ],
             [
              0.8888888888888888,
              "#fdca26"
             ],
             [
              1,
              "#f0f921"
             ]
            ],
            "type": "surface"
           }
          ],
          "table": [
           {
            "cells": {
             "fill": {
              "color": "#EBF0F8"
             },
             "line": {
              "color": "white"
             }
            },
            "header": {
             "fill": {
              "color": "#C8D4E3"
             },
             "line": {
              "color": "white"
             }
            },
            "type": "table"
           }
          ]
         },
         "layout": {
          "annotationdefaults": {
           "arrowcolor": "#2a3f5f",
           "arrowhead": 0,
           "arrowwidth": 1
          },
          "autotypenumbers": "strict",
          "coloraxis": {
           "colorbar": {
            "outlinewidth": 0,
            "ticks": ""
           }
          },
          "colorscale": {
           "diverging": [
            [
             0,
             "#8e0152"
            ],
            [
             0.1,
             "#c51b7d"
            ],
            [
             0.2,
             "#de77ae"
            ],
            [
             0.3,
             "#f1b6da"
            ],
            [
             0.4,
             "#fde0ef"
            ],
            [
             0.5,
             "#f7f7f7"
            ],
            [
             0.6,
             "#e6f5d0"
            ],
            [
             0.7,
             "#b8e186"
            ],
            [
             0.8,
             "#7fbc41"
            ],
            [
             0.9,
             "#4d9221"
            ],
            [
             1,
             "#276419"
            ]
           ],
           "sequential": [
            [
             0,
             "#0d0887"
            ],
            [
             0.1111111111111111,
             "#46039f"
            ],
            [
             0.2222222222222222,
             "#7201a8"
            ],
            [
             0.3333333333333333,
             "#9c179e"
            ],
            [
             0.4444444444444444,
             "#bd3786"
            ],
            [
             0.5555555555555556,
             "#d8576b"
            ],
            [
             0.6666666666666666,
             "#ed7953"
            ],
            [
             0.7777777777777778,
             "#fb9f3a"
            ],
            [
             0.8888888888888888,
             "#fdca26"
            ],
            [
             1,
             "#f0f921"
            ]
           ],
           "sequentialminus": [
            [
             0,
             "#0d0887"
            ],
            [
             0.1111111111111111,
             "#46039f"
            ],
            [
             0.2222222222222222,
             "#7201a8"
            ],
            [
             0.3333333333333333,
             "#9c179e"
            ],
            [
             0.4444444444444444,
             "#bd3786"
            ],
            [
             0.5555555555555556,
             "#d8576b"
            ],
            [
             0.6666666666666666,
             "#ed7953"
            ],
            [
             0.7777777777777778,
             "#fb9f3a"
            ],
            [
             0.8888888888888888,
             "#fdca26"
            ],
            [
             1,
             "#f0f921"
            ]
           ]
          },
          "colorway": [
           "#636efa",
           "#EF553B",
           "#00cc96",
           "#ab63fa",
           "#FFA15A",
           "#19d3f3",
           "#FF6692",
           "#B6E880",
           "#FF97FF",
           "#FECB52"
          ],
          "font": {
           "color": "#2a3f5f"
          },
          "geo": {
           "bgcolor": "white",
           "lakecolor": "white",
           "landcolor": "#E5ECF6",
           "showlakes": true,
           "showland": true,
           "subunitcolor": "white"
          },
          "hoverlabel": {
           "align": "left"
          },
          "hovermode": "closest",
          "mapbox": {
           "style": "light"
          },
          "paper_bgcolor": "white",
          "plot_bgcolor": "#E5ECF6",
          "polar": {
           "angularaxis": {
            "gridcolor": "white",
            "linecolor": "white",
            "ticks": ""
           },
           "bgcolor": "#E5ECF6",
           "radialaxis": {
            "gridcolor": "white",
            "linecolor": "white",
            "ticks": ""
           }
          },
          "scene": {
           "xaxis": {
            "backgroundcolor": "#E5ECF6",
            "gridcolor": "white",
            "gridwidth": 2,
            "linecolor": "white",
            "showbackground": true,
            "ticks": "",
            "zerolinecolor": "white"
           },
           "yaxis": {
            "backgroundcolor": "#E5ECF6",
            "gridcolor": "white",
            "gridwidth": 2,
            "linecolor": "white",
            "showbackground": true,
            "ticks": "",
            "zerolinecolor": "white"
           },
           "zaxis": {
            "backgroundcolor": "#E5ECF6",
            "gridcolor": "white",
            "gridwidth": 2,
            "linecolor": "white",
            "showbackground": true,
            "ticks": "",
            "zerolinecolor": "white"
           }
          },
          "shapedefaults": {
           "line": {
            "color": "#2a3f5f"
           }
          },
          "ternary": {
           "aaxis": {
            "gridcolor": "white",
            "linecolor": "white",
            "ticks": ""
           },
           "baxis": {
            "gridcolor": "white",
            "linecolor": "white",
            "ticks": ""
           },
           "bgcolor": "#E5ECF6",
           "caxis": {
            "gridcolor": "white",
            "linecolor": "white",
            "ticks": ""
           }
          },
          "title": {
           "x": 0.05
          },
          "xaxis": {
           "automargin": true,
           "gridcolor": "white",
           "linecolor": "white",
           "ticks": "",
           "title": {
            "standoff": 15
           },
           "zerolinecolor": "white",
           "zerolinewidth": 2
          },
          "yaxis": {
           "automargin": true,
           "gridcolor": "white",
           "linecolor": "white",
           "ticks": "",
           "title": {
            "standoff": 15
           },
           "zerolinecolor": "white",
           "zerolinewidth": 2
          }
         }
        },
        "title": {
         "text": "Who Survived? (Women & Children First Policy)"
        }
       }
      },
      "image/png": "[encoded data removed]"
     },
     "metadata": {},
     "output_type": "display_data"
    },
    {
     "data": {
      "application/vnd.plotly.v1+json": {
       "config": {
        "plotlyServerURL": "https://plot.ly"
       },
       "data": [
        {
         "marker": {
          "color": "orange",
          "size": 15
         },
         "mode": "markers+text",
         "name": "23.50h",
         "r": [
          1
         ],
         "text": "Break",
         "textposition": "middle center",
         "theta": [
          352.5
         ],
         "type": "scatterpolar"
        },
        {
         "marker": {
          "color": "orange",
          "size": 15
         },
         "mode": "markers+text",
         "name": "23.60h",
         "r": [
          1
         ],
         "text": "Break",
         "textposition": "middle center",
         "theta": [
          354
         ],
         "type": "scatterpolar"
        },
        {
         "marker": {
          "color": "red",
          "size": 15
         },
         "mode": "markers+text",
         "name": "23.70h",
         "r": [
          1
         ],
         "text": "Sinking",
         "textposition": "middle center",
         "theta": [
          355.50000000000006
         ],
         "type": "scatterpolar"
        },
        {
         "marker": {
          "color": "red",
          "size": 15
         },
         "mode": "markers+text",
         "name": "23.80h",
         "r": [
          1
         ],
         "text": "Sinking",
         "textposition": "middle center",
         "theta": [
          357.00000000000006
         ],
         "type": "scatterpolar"
        },
        {
         "marker": {
          "color": "red",
          "size": 15
         },
         "mode": "markers+text",
         "name": "23.90h",
         "r": [
          1
         ],
         "text": "Sinking",
         "textposition": "middle center",
         "theta": [
          358.5000000000001
         ],
         "type": "scatterpolar"
        },
        {
         "marker": {
          "color": "red",
          "size": 15
         },
         "mode": "markers+text",
         "name": "24.00h",
         "r": [
          1
         ],
         "text": "Sinking",
         "textposition": "middle center",
         "theta": [
          360.0000000000001
         ],
         "type": "scatterpolar"
        },
        {
         "marker": {
          "color": "red",
          "size": 15
         },
         "mode": "markers+text",
         "name": "24.10h",
         "r": [
          1
         ],
         "text": "Sinking",
         "textposition": "middle center",
         "theta": [
          361.5000000000001
         ],
         "type": "scatterpolar"
        },
        {
         "marker": {
          "color": "red",
          "size": 15
         },
         "mode": "markers+text",
         "name": "24.20h",
         "r": [
          1
         ],
         "text": "Sinking",
         "textposition": "middle center",
         "theta": [
          363.00000000000017
         ],
         "type": "scatterpolar"
        },
        {
         "marker": {
          "color": "red",
          "size": 15
         },
         "mode": "markers+text",
         "name": "24.30h",
         "r": [
          1
         ],
         "text": "Sinking",
         "textposition": "middle center",
         "theta": [
          364.50000000000017
         ],
         "type": "scatterpolar"
        },
        {
         "marker": {
          "color": "red",
          "size": 15
         },
         "mode": "markers+text",
         "name": "24.40h",
         "r": [
          1
         ],
         "text": "Sinking",
         "textposition": "middle center",
         "theta": [
          366.00000000000017
         ],
         "type": "scatterpolar"
        },
        {
         "marker": {
          "color": "red",
          "size": 15
         },
         "mode": "markers+text",
         "name": "24.50h",
         "r": [
          1
         ],
         "text": "Sinking",
         "textposition": "middle center",
         "theta": [
          367.5000000000002
         ],
         "type": "scatterpolar"
        },
        {
         "marker": {
          "color": "red",
          "size": 15
         },
         "mode": "markers+text",
         "name": "24.60h",
         "r": [
          1
         ],
         "text": "Sinking",
         "textposition": "middle center",
         "theta": [
          369.0000000000002
         ],
         "type": "scatterpolar"
        },
        {
         "marker": {
          "color": "red",
          "size": 15
         },
         "mode": "markers+text",
         "name": "24.70h",
         "r": [
          1
         ],
         "text": "Sinking",
         "textposition": "middle center",
         "theta": [
          370.5000000000002
         ],
         "type": "scatterpolar"
        },
        {
         "marker": {
          "color": "red",
          "size": 15
         },
         "mode": "markers+text",
         "name": "24.80h",
         "r": [
          1
         ],
         "text": "Sinking",
         "textposition": "middle center",
         "theta": [
          372.0000000000003
         ],
         "type": "scatterpolar"
        },
        {
         "marker": {
          "color": "red",
          "size": 15
         },
         "mode": "markers+text",
         "name": "24.90h",
         "r": [
          1
         ],
         "text": "Sinking",
         "textposition": "middle center",
         "theta": [
          373.5000000000003
         ],
         "type": "scatterpolar"
        },
        {
         "marker": {
          "color": "red",
          "size": 15
         },
         "mode": "markers+text",
         "name": "25.00h",
         "r": [
          1
         ],
         "text": "Sinking",
         "textposition": "middle center",
         "theta": [
          375.00000000000034
         ],
         "type": "scatterpolar"
        },
        {
         "marker": {
          "color": "red",
          "size": 15
         },
         "mode": "markers+text",
         "name": "25.10h",
         "r": [
          1
         ],
         "text": "Sinking",
         "textposition": "middle center",
         "theta": [
          376.50000000000034
         ],
         "type": "scatterpolar"
        },
        {
         "marker": {
          "color": "red",
          "size": 15
         },
         "mode": "markers+text",
         "name": "25.20h",
         "r": [
          1
         ],
         "text": "Sinking",
         "textposition": "middle center",
         "theta": [
          378.00000000000034
         ],
         "type": "scatterpolar"
        },
        {
         "marker": {
          "color": "red",
          "size": 15
         },
         "mode": "markers+text",
         "name": "25.30h",
         "r": [
          1
         ],
         "text": "Sinking",
         "textposition": "middle center",
         "theta": [
          379.5000000000004
         ],
         "type": "scatterpolar"
        },
        {
         "marker": {
          "color": "red",
          "size": 15
         },
         "mode": "markers+text",
         "name": "25.40h",
         "r": [
          1
         ],
         "text": "Sinking",
         "textposition": "middle center",
         "theta": [
          381.0000000000004
         ],
         "type": "scatterpolar"
        },
        {
         "marker": {
          "color": "red",
          "size": 15
         },
         "mode": "markers+text",
         "name": "25.50h",
         "r": [
          1
         ],
         "text": "Sinking",
         "textposition": "middle center",
         "theta": [
          382.50000000000045
         ],
         "type": "scatterpolar"
        },
        {
         "marker": {
          "color": "red",
          "size": 15
         },
         "mode": "markers+text",
         "name": "25.60h",
         "r": [
          1
         ],
         "text": "Sinking",
         "textposition": "middle center",
         "theta": [
          384.00000000000045
         ],
         "type": "scatterpolar"
        },
        {
         "marker": {
          "color": "red",
          "size": 15
         },
         "mode": "markers+text",
         "name": "25.70h",
         "r": [
          1
         ],
         "text": "Sinking",
         "textposition": "middle center",
         "theta": [
          385.50000000000045
         ],
         "type": "scatterpolar"
        },
        {
         "marker": {
          "color": "red",
          "size": 15
         },
         "mode": "markers+text",
         "name": "25.80h",
         "r": [
          1
         ],
         "text": "Sinking",
         "textposition": "middle center",
         "theta": [
          387.0000000000005
         ],
         "type": "scatterpolar"
        },
        {
         "marker": {
          "color": "red",
          "size": 15
         },
         "mode": "markers+text",
         "name": "25.90h",
         "r": [
          1
         ],
         "text": "Sinking",
         "textposition": "middle center",
         "theta": [
          388.5000000000005
         ],
         "type": "scatterpolar"
        },
        {
         "marker": {
          "color": "red",
          "size": 15
         },
         "mode": "markers+text",
         "name": "26.00h",
         "r": [
          1
         ],
         "text": "Sinking",
         "textposition": "middle center",
         "theta": [
          390.0000000000005
         ],
         "type": "scatterpolar"
        },
        {
         "marker": {
          "color": "red",
          "size": 15
         },
         "mode": "markers+text",
         "name": "26.10h",
         "r": [
          1
         ],
         "text": "Sinking",
         "textposition": "middle center",
         "theta": [
          391.50000000000057
         ],
         "type": "scatterpolar"
        },
        {
         "marker": {
          "color": "red",
          "size": 15
         },
         "mode": "markers+text",
         "name": "26.20h",
         "r": [
          1
         ],
         "text": "Sinking",
         "textposition": "middle center",
         "theta": [
          393.00000000000057
         ],
         "type": "scatterpolar"
        },
        {
         "marker": {
          "color": "red",
          "size": 15
         },
         "mode": "markers+text",
         "name": "26.30h",
         "r": [
          1
         ],
         "text": "Sinking",
         "textposition": "middle center",
         "theta": [
          394.50000000000057
         ],
         "type": "scatterpolar"
        },
        {
         "marker": {
          "color": "red",
          "size": 15
         },
         "mode": "markers+text",
         "name": "26.40h",
         "r": [
          1
         ],
         "text": "Sinking",
         "textposition": "middle center",
         "theta": [
          396.0000000000006
         ],
         "type": "scatterpolar"
        }
       ],
       "layout": {
        "polar": {
         "angularaxis": {
          "direction": "clockwise",
          "rotation": 90
         },
         "radialaxis": {
          "visible": false
         }
        },
        "showlegend": false,
        "template": {
         "data": {
          "bar": [
           {
            "error_x": {
             "color": "#2a3f5f"
            },
            "error_y": {
             "color": "#2a3f5f"
            },
            "marker": {
             "line": {
              "color": "#E5ECF6",
              "width": 0.5
             },
             "pattern": {
              "fillmode": "overlay",
              "size": 10,
              "solidity": 0.2
             }
            },
            "type": "bar"
           }
          ],
          "barpolar": [
           {
            "marker": {
             "line": {
              "color": "#E5ECF6",
              "width": 0.5
             },
             "pattern": {
              "fillmode": "overlay",
              "size": 10,
              "solidity": 0.2
             }
            },
            "type": "barpolar"
           }
          ],
          "carpet": [
           {
            "aaxis": {
             "endlinecolor": "#2a3f5f",
             "gridcolor": "white",
             "linecolor": "white",
             "minorgridcolor": "white",
             "startlinecolor": "#2a3f5f"
            },
            "baxis": {
             "endlinecolor": "#2a3f5f",
             "gridcolor": "white",
             "linecolor": "white",
             "minorgridcolor": "white",
             "startlinecolor": "#2a3f5f"
            },
            "type": "carpet"
           }
          ],
          "choropleth": [
           {
            "colorbar": {
             "outlinewidth": 0,
             "ticks": ""
            },
            "type": "choropleth"
           }
          ],
          "contour": [
           {
            "colorbar": {
             "outlinewidth": 0,
             "ticks": ""
            },
            "colorscale": [
             [
              0,
              "#0d0887"
             ],
             [
              0.1111111111111111,
              "#46039f"
             ],
             [
              0.2222222222222222,
              "#7201a8"
             ],
             [
              0.3333333333333333,
              "#9c179e"
             ],
             [
              0.4444444444444444,
              "#bd3786"
             ],
             [
              0.5555555555555556,
              "#d8576b"
             ],
             [
              0.6666666666666666,
              "#ed7953"
             ],
             [
              0.7777777777777778,
              "#fb9f3a"
             ],
             [
              0.8888888888888888,
              "#fdca26"
             ],
             [
              1,
              "#f0f921"
             ]
            ],
            "type": "contour"
           }
          ],
          "contourcarpet": [
           {
            "colorbar": {
             "outlinewidth": 0,
             "ticks": ""
            },
            "type": "contourcarpet"
           }
          ],
          "heatmap": [
           {
            "colorbar": {
             "outlinewidth": 0,
             "ticks": ""
            },
            "colorscale": [
             [
              0,
              "#0d0887"
             ],
             [
              0.1111111111111111,
              "#46039f"
             ],
             [
              0.2222222222222222,
              "#7201a8"
             ],
             [
              0.3333333333333333,
              "#9c179e"
             ],
             [
              0.4444444444444444,
              "#bd3786"
             ],
             [
              0.5555555555555556,
              "#d8576b"
             ],
             [
              0.6666666666666666,
              "#ed7953"
             ],
             [
              0.7777777777777778,
              "#fb9f3a"
             ],
             [
              0.8888888888888888,
              "#fdca26"
             ],
             [
              1,
              "#f0f921"
             ]
            ],
            "type": "heatmap"
           }
          ],
          "histogram": [
           {
            "marker": {
             "pattern": {
              "fillmode": "overlay",
              "size": 10,
              "solidity": 0.2
             }
            },
            "type": "histogram"
           }
          ],
          "histogram2d": [
           {
            "colorbar": {
             "outlinewidth": 0,
             "ticks": ""
            },
            "colorscale": [
             [
              0,
              "#0d0887"
             ],
             [
              0.1111111111111111,
              "#46039f"
             ],
             [
              0.2222222222222222,
              "#7201a8"
             ],
             [
              0.3333333333333333,
              "#9c179e"
             ],
             [
              0.4444444444444444,
              "#bd3786"
             ],
             [
              0.5555555555555556,
              "#d8576b"
             ],
             [
              0.6666666666666666,
              "#ed7953"
             ],
             [
              0.7777777777777778,
              "#fb9f3a"
             ],
             [
              0.8888888888888888,
              "#fdca26"
             ],
             [
              1,
              "#f0f921"
             ]
            ],
            "type": "histogram2d"
           }
          ],
          "histogram2dcontour": [
           {
            "colorbar": {
             "outlinewidth": 0,
             "ticks": ""
            },
            "colorscale": [
             [
              0,
              "#0d0887"
             ],
             [
              0.1111111111111111,
              "#46039f"
             ],
             [
              0.2222222222222222,
              "#7201a8"
             ],
             [
              0.3333333333333333,
              "#9c179e"
             ],
             [
              0.4444444444444444,
              "#bd3786"
             ],
             [
              0.5555555555555556,
              "#d8576b"
             ],
             [
              0.6666666666666666,
              "#ed7953"
             ],
             [
              0.7777777777777778,
              "#fb9f3a"
             ],
             [
              0.8888888888888888,
              "#fdca26"
             ],
             [
              1,
              "#f0f921"
             ]
            ],
            "type": "histogram2dcontour"
           }
          ],
          "mesh3d": [
           {
            "colorbar": {
             "outlinewidth": 0,
             "ticks": ""
            },
            "type": "mesh3d"
           }
          ],
          "parcoords": [
           {
            "line": {
             "colorbar": {
              "outlinewidth": 0,
              "ticks": ""
             }
            },
            "type": "parcoords"
           }
          ],
          "pie": [
           {
            "automargin": true,
            "type": "pie"
           }
          ],
          "scatter": [
           {
            "fillpattern": {
             "fillmode": "overlay",
             "size": 10,
             "solidity": 0.2
            },
            "type": "scatter"
           }
          ],
          "scatter3d": [
           {
            "line": {
             "colorbar": {
              "outlinewidth": 0,
              "ticks": ""
             }
            },
            "marker": {
             "colorbar": {
              "outlinewidth": 0,
              "ticks": ""
             }
            },
            "type": "scatter3d"
           }
          ],
          "scattercarpet": [
           {
            "marker": {
             "colorbar": {
              "outlinewidth": 0,
              "ticks": ""
             }
            },
            "type": "scattercarpet"
           }
          ],
          "scattergeo": [
           {
            "marker": {
             "colorbar": {
              "outlinewidth": 0,
              "ticks": ""
             }
            },
            "type": "scattergeo"
           }
          ],
          "scattergl": [
           {
            "marker": {
             "colorbar": {
              "outlinewidth": 0,
              "ticks": ""
             }
            },
            "type": "scattergl"
           }
          ],
          "scattermap": [
           {
            "marker": {
             "colorbar": {
              "outlinewidth": 0,
              "ticks": ""
             }
            },
            "type": "scattermap"
           }
          ],
          "scattermapbox": [
           {
            "marker": {
             "colorbar": {
              "outlinewidth": 0,
              "ticks": ""
             }
            },
            "type": "scattermapbox"
           }
          ],
          "scatterpolar": [
           {
            "marker": {
             "colorbar": {
              "outlinewidth": 0,
              "ticks": ""
             }
            },
            "type": "scatterpolar"
           }
          ],
          "scatterpolargl": [
           {
            "marker": {
             "colorbar": {
              "outlinewidth": 0,
              "ticks": ""
             }
            },
            "type": "scatterpolargl"
           }
          ],
          "scatterternary": [
           {
            "marker": {
             "colorbar": {
              "outlinewidth": 0,
              "ticks": ""
             }
            },
            "type": "scatterternary"
           }
          ],
          "surface": [
           {
            "colorbar": {
             "outlinewidth": 0,
             "ticks": ""
            },
            "colorscale": [
             [
              0,
              "#0d0887"
             ],
             [
              0.1111111111111111,
              "#46039f"
             ],
             [
              0.2222222222222222,
              "#7201a8"
             ],
             [
              0.3333333333333333,
              "#9c179e"
             ],
             [
              0.4444444444444444,
              "#bd3786"
             ],
             [
              0.5555555555555556,
              "#d8576b"
             ],
             [
              0.6666666666666666,
              "#ed7953"
             ],
             [
              0.7777777777777778,
              "#fb9f3a"
             ],
             [
              0.8888888888888888,
              "#fdca26"
             ],
             [
              1,
              "#f0f921"
             ]
            ],
            "type": "surface"
           }
          ],
          "table": [
           {
            "cells": {
             "fill": {
              "color": "#EBF0F8"
             },
             "line": {
              "color": "white"
             }
            },
            "header": {
             "fill": {
              "color": "#C8D4E3"
             },
             "line": {
              "color": "white"
             }
            },
            "type": "table"
           }
          ]
         },
         "layout": {
          "annotationdefaults": {
           "arrowcolor": "#2a3f5f",
           "arrowhead": 0,
           "arrowwidth": 1
          },
          "autotypenumbers": "strict",
          "coloraxis": {
           "colorbar": {
            "outlinewidth": 0,
            "ticks": ""
           }
          },
          "colorscale": {
           "diverging": [
            [
             0,
             "#8e0152"
            ],
            [
             0.1,
             "#c51b7d"
            ],
            [
             0.2,
             "#de77ae"
            ],
            [
             0.3,
             "#f1b6da"
            ],
            [
             0.4,
             "#fde0ef"
            ],
            [
             0.5,
             "#f7f7f7"
            ],
            [
             0.6,
             "#e6f5d0"
            ],
            [
             0.7,
             "#b8e186"
            ],
            [
             0.8,
             "#7fbc41"
            ],
            [
             0.9,
             "#4d9221"
            ],
            [
             1,
             "#276419"
            ]
           ],
           "sequential": [
            [
             0,
             "#0d0887"
            ],
            [
             0.1111111111111111,
             "#46039f"
            ],
            [
             0.2222222222222222,
             "#7201a8"
            ],
            [
             0.3333333333333333,
             "#9c179e"
            ],
            [
             0.4444444444444444,
             "#bd3786"
            ],
            [
             0.5555555555555556,
             "#d8576b"
            ],
            [
             0.6666666666666666,
             "#ed7953"
            ],
            [
             0.7777777777777778,
             "#fb9f3a"
            ],
            [
             0.8888888888888888,
             "#fdca26"
            ],
            [
             1,
             "#f0f921"
            ]
           ],
           "sequentialminus": [
            [
             0,
             "#0d0887"
            ],
            [
             0.1111111111111111,
             "#46039f"
            ],
            [
             0.2222222222222222,
             "#7201a8"
            ],
            [
             0.3333333333333333,
             "#9c179e"
            ],
            [
             0.4444444444444444,
             "#bd3786"
            ],
            [
             0.5555555555555556,
             "#d8576b"
            ],
            [
             0.6666666666666666,
             "#ed7953"
            ],
            [
             0.7777777777777778,
             "#fb9f3a"
            ],
            [
             0.8888888888888888,
             "#fdca26"
            ],
            [
             1,
             "#f0f921"
            ]
           ]
          },
          "colorway": [
           "#636efa",
           "#EF553B",
           "#00cc96",
           "#ab63fa",
           "#FFA15A",
           "#19d3f3",
           "#FF6692",
           "#B6E880",
           "#FF97FF",
           "#FECB52"
          ],
          "font": {
           "color": "#2a3f5f"
          },
          "geo": {
           "bgcolor": "white",
           "lakecolor": "white",
           "landcolor": "#E5ECF6",
           "showlakes": true,
           "showland": true,
           "subunitcolor": "white"
          },
          "hoverlabel": {
           "align": "left"
          },
          "hovermode": "closest",
          "mapbox": {
           "style": "light"
          },
          "paper_bgcolor": "white",
          "plot_bgcolor": "#E5ECF6",
          "polar": {
           "angularaxis": {
            "gridcolor": "white",
            "linecolor": "white",
            "ticks": ""
           },
           "bgcolor": "#E5ECF6",
           "radialaxis": {
            "gridcolor": "white",
            "linecolor": "white",
            "ticks": ""
           }
          },
          "scene": {
           "xaxis": {
            "backgroundcolor": "#E5ECF6",
            "gridcolor": "white",
            "gridwidth": 2,
            "linecolor": "white",
            "showbackground": true,
            "ticks": "",
            "zerolinecolor": "white"
           },
           "yaxis": {
            "backgroundcolor": "#E5ECF6",
            "gridcolor": "white",
            "gridwidth": 2,
            "linecolor": "white",
            "showbackground": true,
            "ticks": "",
            "zerolinecolor": "white"
           },
           "zaxis": {
            "backgroundcolor": "#E5ECF6",
            "gridcolor": "white",
            "gridwidth": 2,
            "linecolor": "white",
            "showbackground": true,
            "ticks": "",
            "zerolinecolor": "white"
           }
          },
          "shapedefaults": {
           "line": {
            "color": "#2a3f5f"
           }
          },
          "ternary": {
           "aaxis": {
            "gridcolor": "white",
            "linecolor": "white",
            "ticks": ""
           },
           "baxis": {
            "gridcolor": "white",
            "linecolor": "white",
            "ticks": ""
           },
           "bgcolor": "#E5ECF6",
           "caxis": {
            "gridcolor": "white",
            "linecolor": "white",
            "ticks": ""
           }
          },
          "title": {
           "x": 0.05
          },
          "xaxis": {
           "automargin": true,
           "gridcolor": "white",
           "linecolor": "white",
           "ticks": "",
           "title": {
            "standoff": 15
           },
           "zerolinecolor": "white",
           "zerolinewidth": 2
          },
          "yaxis": {
           "automargin": true,
           "gridcolor": "white",
           "linecolor": "white",
           "ticks": "",
           "title": {
            "standoff": 15
           },
           "zerolinecolor": "white",
           "zerolinewidth": 2
          }
         }
        },
        "title": {
         "text": "Titanic Sinking: 2.5-Hour Countdown (11:40 PM – 2:20 AM)"
        }
       }
      },
      "image/png": "[encoded data removed]"
     },
     "metadata": {},
     "output_type": "display_data"
    }
   ],
   "source": [
    "# --- Install required packages (uncomment if running in Colab) ---\n",
    "# !pip install plotly pandas\n",
    "\n",
    "import plotly.graph_objects as go\n",
    "import plotly.express as px\n",
    "import pandas as pd\n",
    "import numpy as np\n",
    "from datetime import datetime, timedelta\n",
    "\n",
    "# === 1. Timeline of Key Events ===\n",
    "events = [\n",
    "    (\"Departure\", \"1912-04-10 12:00\", \"Titanic leaves Southampton\"),\n",
    "    (\"Cherbourg\", \"1912-04-10 18:30\", \"Stops in France\"),\n",
    "    (\"Queenstown\", \"1912-04-11 11:30\", \"Final stop in Ireland\"),\n",
    "    (\"Iceberg Warning\", \"1912-04-14 09:00\", \"Multiple warnings received\"),\n",
    "    (\"Collision\", \"1912-04-14 23:40\", \"Struck iceberg\"),\n",
    "    (\"Distress Call\", \"1912-04-15 00:00\", \"SOS sent\"),\n",
    "    (\"First Lifeboat\", \"1912-04-15 00:45\", \"Lifeboat #7 launched\"),\n",
    "    (\"Bow Submerges\", \"1912-04-15 02:00\", \"Bow fully underwater\"),\n",
    "    (\"Ship Breaks\", \"1912-04-15 02:18\", \"Titanic splits in two\"),\n",
    "    (\"Sinks\", \"1912-04-15 02:20\", \"Completely submerged\"),\n",
    "    (\"Carpathia Arrives\", \"1912-04-15 04:00\", \"Rescue begins\"),\n",
    "    (\"NYC Arrival\", \"1912-04-18 21:00\", \"Survivors reach New York\")\n",
    "]\n",
    "\n",
    "df_timeline = pd.DataFrame(events, columns=[\"Event\", \"Time\", \"Description\"])\n",
    "df_timeline['Time'] = pd.to_datetime(df_timeline['Time'])\n",
    "\n",
    "fig_timeline = go.Figure()\n",
    "\n",
    "fig_timeline.add_trace(go.Scatter(\n",
    "    x=df_timeline['Time'],\n",
    "    y=[1] * len(df_timeline),\n",
    "    mode='markers+text',\n",
    "    marker=dict(size=12, color='navy'),\n",
    "    text=df_timeline['Event'],\n",
    "    textposition=\"top center\",\n",
    "    hoverinfo='text',\n",
    "    hovertext=df_timeline['Description']\n",
    "))\n",
    "\n",
    "fig_timeline.add_trace(go.Scatter(\n",
    "    x=df_timeline['Time'],\n",
    "    y=[0] * len(df_timeline),\n",
    "    mode='lines',\n",
    "    line=dict(color='lightblue', width=4),\n",
    "    hoverinfo='none'\n",
    "))\n",
    "\n",
    "fig_timeline.update_layout(\n",
    "    title=\"Titanic Disaster Timeline (April 10–18, 1912)\",\n",
    "    xaxis_title=\"Date & Time\",\n",
    "    yaxis=dict(showticklabels=False, range=[-0.5, 1.5]),\n",
    "    height=400,\n",
    "    showlegend=False,\n",
    "    template=\"plotly_dark\"\n",
    ")\n",
    "\n",
    "fig_timeline.show()\n",
    "\n",
    "# === 2. Survival Sankey Diagram (Class → Gender → Survival) ===\n",
    "labels = [\n",
    "    \"1st Class\", \"2nd Class\", \"3rd Class\",\n",
    "    \"Male\", \"Female\",\n",
    "    \"Survived\", \"Perished\"\n",
    "]\n",
    "\n",
    "source = [0, 0, 1, 1, 2, 2, 3, 3, 4, 4]  # from\n",
    "target = [3, 4, 3, 4, 3, 4, 5, 6, 5, 6]  # to\n",
    "value = [130, 195, 120, 165, 510, 670, 340, 785, 150, 460]  # approximate counts\n",
    "\n",
    "fig_sankey = go.Figure(data=[go.Sankey(\n",
    "    node=dict(pad=15, thickness=20, line=dict(color=\"black\", width=0.5),\n",
    "              label=labels, color=[\"gold\", \"silver\", \"brown\", \"blue\", \"pink\", \"green\", \"red\"]),\n",
    "    link=dict(source=source, target=target, value=value,\n",
    "              color=[\"rgba(255,215,0,0.4)\", \"rgba(192,192,192,0.4)\", \n",
    "                     \"rgba(139,69,19,0.4)\", \"rgba(135,206,235,0.4)\", \n",
    "                     \"rgba(255,182,193,0.4)\", \"rgba(144,238,144,0.4)\"])\n",
    ")])\n",
    "\n",
    "fig_sankey.update_layout(title=\"Titanic: Flow from Class → Gender → Survival\", font_size=12)\n",
    "fig_sankey.show()\n",
    "\n",
    "# === 3. Survival Rate by Class & Gender (Animated Pie) ===\n",
    "survival_data = pd.DataFrame({\n",
    "    'Class': ['1st', '1st', '2nd', '2nd', '3rd', '3rd'],\n",
    "    'Gender': ['Male', 'Female', 'Male', 'Female', 'Male', 'Female'],\n",
    "    'Survived': [122, 203, 118, 167, 75, 76],\n",
    "    'Perished': [154, 5, 154, 13, 387, 89]\n",
    "})\n",
    "\n",
    "fig_pie = px.sunburst(\n",
    "    survival_data,\n",
    "    path=['Class', 'Gender'],\n",
    "    values='Survived',\n",
    "    title=\"Who Survived? (Women & Children First Policy)\",\n",
    "    color='Survived',\n",
    "    color_continuous_scale='Blues'\n",
    ")\n",
    "fig_pie.show()\n",
    "\n",
    "# === 4. Animated Sinking Clock (Concept) ===\n",
    "hours = np.arange(23.5, 26.5, 0.1)\n",
    "stages = [\"Collision\", \"Evacuation\", \"Bow Tilts\", \"Stern Rises\", \"Break\", \"Sinking\"]\n",
    "stage_times = [23.67, 0.75, 1.25, 2.0, 2.3, 2.33]\n",
    "\n",
    "fig_clock = go.Figure()\n",
    "\n",
    "for i, t in enumerate(hours):\n",
    "    stage_idx = sum(1 for s in stage_times if t*10 > s*10) - 1\n",
    "    stage = stages[min(stage_idx, len(stages)-1)] if stage_idx >= 0 else \"Voyage\"\n",
    "    \n",
    "    fig_clock.add_trace(go.Scatterpolar(\n",
    "        r=[1],\n",
    "        theta=[t * 15],  # 24h clock → degrees\n",
    "        mode='markers+text',\n",
    "        marker=dict(size=15, color='red' if 'Sink' in stage else 'orange' if 'Break' in stage else 'yellow'),\n",
    "        text=stage,\n",
    "        textposition=\"middle center\",\n",
    "        name=f\"{t:.2f}h\"\n",
    "    ))\n",
    "\n",
    "fig_clock.update_layout(\n",
    "    title=\"Titanic Sinking: 2.5-Hour Countdown (11:40 PM – 2:20 AM)\",\n",
    "    polar=dict(radialaxis=dict(visible=False), angularaxis=dict(rotation=90, direction='clockwise')),\n",
    "    showlegend=False\n",
    ")\n",
    "fig_clock.show()"
   ]
  },
  {
   "cell_type": "code",
   "execution_count": 3,
   "id": "40b06f6d-5622-409c-9e31-be1059a8444c",
   "metadata": {},
   "outputs": [],
   "source": [
    "# Finish"
   ]
  }
 ],
 "metadata": {
  "kernelspec": {
   "display_name": "Python 3 (ipykernel)",
   "language": "python",
   "name": "python3"
  },
  "language_info": {
   "codemirror_mode": {
    "name": "ipython",
    "version": 3
   },
   "file_extension": ".py",
   "mimetype": "text/x-python",
   "name": "python",
   "nbconvert_exporter": "python",
   "pygments_lexer": "ipython3",
   "version": "3.12.10"
  }
 },
 "nbformat": 4,
 "nbformat_minor": 5
}
